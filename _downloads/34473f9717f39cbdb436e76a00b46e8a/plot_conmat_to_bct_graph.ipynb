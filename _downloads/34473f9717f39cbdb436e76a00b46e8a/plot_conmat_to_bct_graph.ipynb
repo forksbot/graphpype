{
  "cells": [
    {
      "cell_type": "code",
      "execution_count": null,
      "metadata": {
        "collapsed": false
      },
      "outputs": [],
      "source": [
        "%matplotlib inline"
      ]
    },
    {
      "cell_type": "markdown",
      "metadata": {},
      "source": [
        "\n\n\n# Compute Graph properties from a given connectivity matrix with BCT toolbox\n\nThe conmat_to_graph pipeline provide an example wrap of a function from the\nbctpy toolbox (Brain Connectivity Toolbox)\n<https://sites.google.com/site/bctnet/> as an alternative to the Radatools\ntoolbox for graph metric computation.\n\nThe **input** data should be a symetrical connecivity matrix in **npy** format.\n\n"
      ]
    },
    {
      "cell_type": "code",
      "execution_count": null,
      "metadata": {
        "collapsed": false
      },
      "outputs": [],
      "source": [
        "# Authors: David Meunier <david_meunier_79@hotmail.fr>\n\n# License: BSD (3-clause)\n# sphinx_gallery_thumbnail_number = 2\nimport os.path as op\n\nimport nipype.pipeline.engine as pe\n\nfrom nipype.interfaces.utility import IdentityInterface\nimport nipype.interfaces.io as nio"
      ]
    },
    {
      "cell_type": "markdown",
      "metadata": {},
      "source": [
        "Check if data are available\n\n"
      ]
    },
    {
      "cell_type": "code",
      "execution_count": null,
      "metadata": {
        "collapsed": false
      },
      "outputs": [],
      "source": [
        "from graphpype.utils_tests import load_test_data\n\ndata_path = load_test_data(\"data_con_meg\")"
      ]
    },
    {
      "cell_type": "markdown",
      "metadata": {},
      "source": [
        "This will be what we will loop on\n\n"
      ]
    },
    {
      "cell_type": "code",
      "execution_count": null,
      "metadata": {
        "collapsed": false
      },
      "outputs": [],
      "source": [
        "freq_band_names = ['alpha', 'beta']"
      ]
    },
    {
      "cell_type": "markdown",
      "metadata": {},
      "source": [
        "Then, we create our workflow and specify the `base_dir` which tells\nnipype the directory in which to store the outputs.\n\n"
      ]
    },
    {
      "cell_type": "code",
      "execution_count": null,
      "metadata": {
        "collapsed": false
      },
      "outputs": [],
      "source": [
        "# workflow directory within the `base_dir`\ngraph_analysis_name = 'graph_analysis'\n\nmain_workflow = pe.Workflow(name=graph_analysis_name)\nmain_workflow.base_dir = data_path"
      ]
    },
    {
      "cell_type": "markdown",
      "metadata": {},
      "source": [
        "Then we create a node to pass input filenames to DataGrabber from nipype\n\n"
      ]
    },
    {
      "cell_type": "code",
      "execution_count": null,
      "metadata": {
        "collapsed": false
      },
      "outputs": [],
      "source": [
        "infosource = pe.Node(\n        interface=IdentityInterface(fields=['freq_band_name']),\n        name=\"infosource\")\n\ninfosource.iterables = [('freq_band_name', freq_band_names)]"
      ]
    },
    {
      "cell_type": "markdown",
      "metadata": {},
      "source": [
        "and a node to grab data. The template_args in this node iterate upon\nthe values in the infosource node\n\n"
      ]
    },
    {
      "cell_type": "code",
      "execution_count": null,
      "metadata": {
        "collapsed": false
      },
      "outputs": [],
      "source": [
        "# template_path = '*%s/conmat_0_coh.npy'\n# template_args = [['freq_band_name']\n# datasource = create_datagrabber(data_path, template_path, template_args)\n\ndatasource = pe.Node(\n    interface=nio.DataGrabber(infields=['freq_band_name'],\n                              outfields=['conmat_file']),\n    name='datasource')\ndatasource.inputs.base_directory = data_path\ndatasource.inputs.template = (\"%s/conmat_0_coh.npy\")\ndatasource.inputs.template_args = dict(\n    conmat_file=[['freq_band_name']])\n\ndatasource.inputs.sort_filelist = True"
      ]
    },
    {
      "cell_type": "markdown",
      "metadata": {},
      "source": [
        "This parameter corrdesponds to the percentage of highest connections retains\nfor the analyses. con_den = 1.0 means a fully connected graphs (all edges\nare present)\n\n"
      ]
    },
    {
      "cell_type": "code",
      "execution_count": null,
      "metadata": {
        "collapsed": false
      },
      "outputs": [],
      "source": [
        "import json  # noqa\nimport pprint  # noqa\n\ndata_graph = json.load(open(op.join(op.dirname(\"__file__\"),\n                                  \"params_bct_graph.json\")))\npprint.pprint({'graph parameters': data_graph})\n\n# density of the threshold\ncon_den = data_graph['con_den']\n\n\nfrom graphpype.pipelines import create_pipeline_bct_graph\n\ngraph_workflow = create_pipeline_bct_graph(\n    data_path, con_den=con_den)"
      ]
    },
    {
      "cell_type": "markdown",
      "metadata": {},
      "source": [
        "We then connect the nodes two at a time. We connect the output\nof the infosource node to the datasource node.\nSo, these two nodes taken together can grab data.\n\n"
      ]
    },
    {
      "cell_type": "code",
      "execution_count": null,
      "metadata": {
        "collapsed": false
      },
      "outputs": [],
      "source": [
        "main_workflow.connect(infosource, 'freq_band_name',\n                      datasource, 'freq_band_name')\n\nmain_workflow.connect(datasource, 'conmat_file',\n                      graph_workflow, \"inputnode.conmat_file\")"
      ]
    },
    {
      "cell_type": "markdown",
      "metadata": {},
      "source": [
        "To do so, we first write the workflow graph (optional)\n\n"
      ]
    },
    {
      "cell_type": "code",
      "execution_count": null,
      "metadata": {
        "collapsed": false
      },
      "outputs": [],
      "source": [
        "main_workflow.write_graph(graph2use='colored')  # colored"
      ]
    },
    {
      "cell_type": "markdown",
      "metadata": {},
      "source": [
        "and visualize it. Take a moment to pause and notice how the connections\nhere correspond to how we connected the nodes.\n\n"
      ]
    },
    {
      "cell_type": "code",
      "execution_count": null,
      "metadata": {
        "collapsed": false
      },
      "outputs": [],
      "source": [
        "#import matplotlib.pyplot as plt  # noqa\n#img = plt.imread(op.join(data_path, graph_analysis_name, 'graph.png'))\n#plt.figure(figsize=(8, 8))\n#plt.imshow(img)\n#plt.axis('off')\n#plt.show()"
      ]
    },
    {
      "cell_type": "markdown",
      "metadata": {},
      "source": [
        "Finally, we are now ready to execute our workflow.\n\n"
      ]
    },
    {
      "cell_type": "code",
      "execution_count": null,
      "metadata": {
        "collapsed": false
      },
      "outputs": [],
      "source": [
        "main_workflow.config['execution'] = {'remove_unnecessary_outputs': 'false'}\n\n# Run workflow locally on 2 CPUs\nmain_workflow.run(plugin='MultiProc', plugin_args={'n_procs': 2})"
      ]
    },
    {
      "cell_type": "markdown",
      "metadata": {},
      "source": [
        "plotting modules and roles\n\n"
      ]
    },
    {
      "cell_type": "code",
      "execution_count": null,
      "metadata": {
        "collapsed": false
      },
      "outputs": [],
      "source": [
        "from graphpype.utils_visbrain import visu_graph # noqa\n\nlabels_file = op.join(data_path, \"correct_channel_names.txt\")\ncoords_file = op.join(data_path, \"MNI_coords.txt\")\n\n#labels_file = op.join(data_path, \"label_names.txt\")\n#coords_file = op.join(data_path, \"label_centroid.txt\")\n\nfrom visbrain.objects import SceneObj, BrainObj # noqa\n\nsc = SceneObj(size=(1500, 1500), bgcolor=(1,1,1))\n\nviews = [\"left\",'top']\n\n\nfor nf, freq_band_name in enumerate(freq_band_names):\n\n    res_path = op.join(\n        data_path, graph_analysis_name,\n        \"graph_bct_pipe\",\n        \"_freq_band_name_\"+freq_band_name)\n\n    node_k_file = op.join(res_path, \"k_core\", \"coreness.npy\")\n\n    bin_mat_file = op.join(res_path, \"bin_mat\", \"bin_mat.npy\")\n\n    for i_v,view in enumerate(views):\n        b_obj = BrainObj('B1', translucent=True)\n\n        sc.add_to_subplot(b_obj, row=nf, col = i_v, use_this_cam=True, rotate=view,\n                        title=(\"K-core nodes for {} band\".format(freq_band_name)),\n                        title_size=14, title_bold=True, title_color='black')\n\n        c_obj,s_obj = visu_graph(\n            labels_file = labels_file, coords_file = coords_file,\n            #net_file = bin_mat_file)\n            net_file = bin_mat_file, node_size_file=node_k_file)\n\n        sc.add_to_subplot(c_obj, row=nf, col = i_v)\n        sc.add_to_subplot(s_obj, row=nf, col = i_v)\n\nsc.preview()"
      ]
    }
  ],
  "metadata": {
    "kernelspec": {
      "display_name": "Python 3",
      "language": "python",
      "name": "python3"
    },
    "language_info": {
      "codemirror_mode": {
        "name": "ipython",
        "version": 3
      },
      "file_extension": ".py",
      "mimetype": "text/x-python",
      "name": "python",
      "nbconvert_exporter": "python",
      "pygments_lexer": "ipython3",
      "version": "3.6.9"
    }
  },
  "nbformat": 4,
  "nbformat_minor": 0
}